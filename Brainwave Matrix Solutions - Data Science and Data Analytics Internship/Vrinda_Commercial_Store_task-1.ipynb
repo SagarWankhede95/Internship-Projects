{
 "cells": [
  {
   "cell_type": "code",
   "execution_count": 1,
   "id": "082cc284-31a6-46db-9acc-9c382b8eec2d",
   "metadata": {},
   "outputs": [],
   "source": [
    "# Vrinda Store Data Analysis project"
   ]
  },
  {
   "cell_type": "code",
   "execution_count": 2,
   "id": "b77fe112-4d2d-4c54-9390-1a6009569b26",
   "metadata": {},
   "outputs": [],
   "source": [
    "# Objective\n",
    "#The Vrinda Store wants to create an annual sales report for 2022. \n",
    "#So that,the owner of the Vrinda store can understand their customers and grow more sales in 2023"
   ]
  },
  {
   "cell_type": "code",
   "execution_count": 3,
   "id": "2f0ac91a-80a0-4245-a14d-0aa588af5519",
   "metadata": {},
   "outputs": [],
   "source": [
    "# import python libraries\n",
    "\n",
    "import numpy as np \n",
    "import pandas as pd \n",
    "import matplotlib.pyplot as plt # visualizing data\n",
    "%matplotlib inline\n",
    "import seaborn as sns"
   ]
  },
  {
   "cell_type": "code",
   "execution_count": 4,
   "id": "8259a5c5-e709-45b6-9d12-1e2c91222e09",
   "metadata": {},
   "outputs": [],
   "source": [
    "df = pd.read_csv('Vrinda store data.csv',encoding= 'unicode_escape')"
   ]
  },
  {
   "cell_type": "code",
   "execution_count": 5,
   "id": "d5b1f08c-69b5-4818-a023-f601c1cd2aba",
   "metadata": {},
   "outputs": [
    {
     "data": {
      "text/plain": [
       "(31047, 21)"
      ]
     },
     "execution_count": 5,
     "metadata": {},
     "output_type": "execute_result"
    }
   ],
   "source": [
    "df.shape"
   ]
  },
  {
   "cell_type": "code",
   "execution_count": 6,
   "id": "3ee77808-6413-4f04-8962-b631b71a6a70",
   "metadata": {},
   "outputs": [
    {
     "data": {
      "text/html": [
       "<div>\n",
       "<style scoped>\n",
       "    .dataframe tbody tr th:only-of-type {\n",
       "        vertical-align: middle;\n",
       "    }\n",
       "\n",
       "    .dataframe tbody tr th {\n",
       "        vertical-align: top;\n",
       "    }\n",
       "\n",
       "    .dataframe thead th {\n",
       "        text-align: right;\n",
       "    }\n",
       "</style>\n",
       "<table border=\"1\" class=\"dataframe\">\n",
       "  <thead>\n",
       "    <tr style=\"text-align: right;\">\n",
       "      <th></th>\n",
       "      <th>ï»¿index</th>\n",
       "      <th>Order ID</th>\n",
       "      <th>Cust ID</th>\n",
       "      <th>Gender</th>\n",
       "      <th>Age</th>\n",
       "      <th>Age Group</th>\n",
       "      <th>Date</th>\n",
       "      <th>Month</th>\n",
       "      <th>Status</th>\n",
       "      <th>Channel</th>\n",
       "      <th>...</th>\n",
       "      <th>Category</th>\n",
       "      <th>Size</th>\n",
       "      <th>Qty</th>\n",
       "      <th>currency</th>\n",
       "      <th>Amount</th>\n",
       "      <th>ship-city</th>\n",
       "      <th>ship-state</th>\n",
       "      <th>ship-postal-code</th>\n",
       "      <th>ship-country</th>\n",
       "      <th>B2B</th>\n",
       "    </tr>\n",
       "  </thead>\n",
       "  <tbody>\n",
       "    <tr>\n",
       "      <th>0</th>\n",
       "      <td>1</td>\n",
       "      <td>171-1029312-3038738</td>\n",
       "      <td>1029312</td>\n",
       "      <td>Women</td>\n",
       "      <td>44</td>\n",
       "      <td>Adult</td>\n",
       "      <td>04-12-2022</td>\n",
       "      <td>Dec</td>\n",
       "      <td>Delivered</td>\n",
       "      <td>Myntra</td>\n",
       "      <td>...</td>\n",
       "      <td>kurta</td>\n",
       "      <td>XXL</td>\n",
       "      <td>1</td>\n",
       "      <td>INR</td>\n",
       "      <td>376</td>\n",
       "      <td>MOHALI</td>\n",
       "      <td>PUNJAB</td>\n",
       "      <td>140301</td>\n",
       "      <td>IN</td>\n",
       "      <td>False</td>\n",
       "    </tr>\n",
       "    <tr>\n",
       "      <th>1</th>\n",
       "      <td>2</td>\n",
       "      <td>405-2183842-2225946</td>\n",
       "      <td>2183842</td>\n",
       "      <td>Women</td>\n",
       "      <td>29</td>\n",
       "      <td>Teenager</td>\n",
       "      <td>04-12-2022</td>\n",
       "      <td>Dec</td>\n",
       "      <td>Delivered</td>\n",
       "      <td>Ajio</td>\n",
       "      <td>...</td>\n",
       "      <td>Set</td>\n",
       "      <td>L</td>\n",
       "      <td>1</td>\n",
       "      <td>INR</td>\n",
       "      <td>1449</td>\n",
       "      <td>GURUGRAM</td>\n",
       "      <td>HARYANA</td>\n",
       "      <td>122002</td>\n",
       "      <td>IN</td>\n",
       "      <td>False</td>\n",
       "    </tr>\n",
       "    <tr>\n",
       "      <th>2</th>\n",
       "      <td>3</td>\n",
       "      <td>171-1641533-8921966</td>\n",
       "      <td>1641533</td>\n",
       "      <td>Women</td>\n",
       "      <td>67</td>\n",
       "      <td>Senior</td>\n",
       "      <td>04-12-2022</td>\n",
       "      <td>Dec</td>\n",
       "      <td>Delivered</td>\n",
       "      <td>Myntra</td>\n",
       "      <td>...</td>\n",
       "      <td>Set</td>\n",
       "      <td>S</td>\n",
       "      <td>1</td>\n",
       "      <td>INR</td>\n",
       "      <td>453</td>\n",
       "      <td>KOLKATA</td>\n",
       "      <td>WEST BENGAL</td>\n",
       "      <td>700029</td>\n",
       "      <td>IN</td>\n",
       "      <td>False</td>\n",
       "    </tr>\n",
       "    <tr>\n",
       "      <th>3</th>\n",
       "      <td>4</td>\n",
       "      <td>404-7490807-6300351</td>\n",
       "      <td>7490807</td>\n",
       "      <td>Women</td>\n",
       "      <td>20</td>\n",
       "      <td>Teenager</td>\n",
       "      <td>04-12-2022</td>\n",
       "      <td>Dec</td>\n",
       "      <td>Delivered</td>\n",
       "      <td>Amazon</td>\n",
       "      <td>...</td>\n",
       "      <td>Set</td>\n",
       "      <td>M</td>\n",
       "      <td>1</td>\n",
       "      <td>INR</td>\n",
       "      <td>729</td>\n",
       "      <td>THANJAVUR</td>\n",
       "      <td>TAMIL NADU</td>\n",
       "      <td>613007</td>\n",
       "      <td>IN</td>\n",
       "      <td>False</td>\n",
       "    </tr>\n",
       "    <tr>\n",
       "      <th>4</th>\n",
       "      <td>5</td>\n",
       "      <td>403-9293516-4577154</td>\n",
       "      <td>9293516</td>\n",
       "      <td>Women</td>\n",
       "      <td>62</td>\n",
       "      <td>Senior</td>\n",
       "      <td>04-12-2022</td>\n",
       "      <td>Dec</td>\n",
       "      <td>Delivered</td>\n",
       "      <td>Myntra</td>\n",
       "      <td>...</td>\n",
       "      <td>kurta</td>\n",
       "      <td>XXL</td>\n",
       "      <td>1</td>\n",
       "      <td>INR</td>\n",
       "      <td>544</td>\n",
       "      <td>GURUGRAM</td>\n",
       "      <td>HARYANA</td>\n",
       "      <td>122001</td>\n",
       "      <td>IN</td>\n",
       "      <td>False</td>\n",
       "    </tr>\n",
       "  </tbody>\n",
       "</table>\n",
       "<p>5 rows × 21 columns</p>\n",
       "</div>"
      ],
      "text/plain": [
       "   ï»¿index             Order ID  Cust ID Gender  Age Age Group        Date  \\\n",
       "0         1  171-1029312-3038738  1029312  Women   44     Adult  04-12-2022   \n",
       "1         2  405-2183842-2225946  2183842  Women   29  Teenager  04-12-2022   \n",
       "2         3  171-1641533-8921966  1641533  Women   67    Senior  04-12-2022   \n",
       "3         4  404-7490807-6300351  7490807  Women   20  Teenager  04-12-2022   \n",
       "4         5  403-9293516-4577154  9293516  Women   62    Senior  04-12-2022   \n",
       "\n",
       "  Month     Status Channel   ... Category Size Qty  currency Amount  \\\n",
       "0   Dec  Delivered   Myntra  ...    kurta  XXL   1       INR    376   \n",
       "1   Dec  Delivered     Ajio  ...      Set    L   1       INR   1449   \n",
       "2   Dec  Delivered   Myntra  ...      Set    S   1       INR    453   \n",
       "3   Dec  Delivered   Amazon  ...      Set    M   1       INR    729   \n",
       "4   Dec  Delivered   Myntra  ...    kurta  XXL   1       INR    544   \n",
       "\n",
       "   ship-city   ship-state ship-postal-code  ship-country    B2B  \n",
       "0     MOHALI       PUNJAB           140301            IN  False  \n",
       "1   GURUGRAM      HARYANA           122002            IN  False  \n",
       "2    KOLKATA  WEST BENGAL           700029            IN  False  \n",
       "3  THANJAVUR   TAMIL NADU           613007            IN  False  \n",
       "4   GURUGRAM      HARYANA           122001            IN  False  \n",
       "\n",
       "[5 rows x 21 columns]"
      ]
     },
     "execution_count": 6,
     "metadata": {},
     "output_type": "execute_result"
    }
   ],
   "source": [
    "# The dataset contains information about orders, including customer demographics, product details, and sales data.\n",
    "\n",
    "df.head(5)"
   ]
  },
  {
   "cell_type": "code",
   "execution_count": 7,
   "id": "88830403-5432-439b-8022-151a178e1a74",
   "metadata": {},
   "outputs": [
    {
     "name": "stdout",
     "output_type": "stream",
     "text": [
      "<class 'pandas.core.frame.DataFrame'>\n",
      "RangeIndex: 31047 entries, 0 to 31046\n",
      "Data columns (total 21 columns):\n",
      " #   Column            Non-Null Count  Dtype \n",
      "---  ------            --------------  ----- \n",
      " 0   ï»¿index          31047 non-null  int64 \n",
      " 1   Order ID          31047 non-null  object\n",
      " 2   Cust ID           31047 non-null  int64 \n",
      " 3   Gender            31047 non-null  object\n",
      " 4   Age               31047 non-null  int64 \n",
      " 5   Age Group         31047 non-null  object\n",
      " 6   Date              31047 non-null  object\n",
      " 7   Month             31047 non-null  object\n",
      " 8   Status            31047 non-null  object\n",
      " 9   Channel           31047 non-null  object\n",
      " 10  SKU               31047 non-null  object\n",
      " 11  Category          31047 non-null  object\n",
      " 12  Size              31047 non-null  object\n",
      " 13  Qty               31047 non-null  int64 \n",
      " 14  currency          31047 non-null  object\n",
      " 15  Amount            31047 non-null  int64 \n",
      " 16  ship-city         31047 non-null  object\n",
      " 17  ship-state        31047 non-null  object\n",
      " 18  ship-postal-code  31047 non-null  int64 \n",
      " 19  ship-country      31047 non-null  object\n",
      " 20  B2B               31047 non-null  bool  \n",
      "dtypes: bool(1), int64(6), object(14)\n",
      "memory usage: 4.8+ MB\n"
     ]
    }
   ],
   "source": [
    "df.info()"
   ]
  },
  {
   "cell_type": "code",
   "execution_count": 8,
   "id": "2fd5b573-6813-44d7-8d44-e37169367177",
   "metadata": {},
   "outputs": [
    {
     "data": {
      "text/plain": [
       "ï»¿index            0\n",
       "Order ID            0\n",
       "Cust ID             0\n",
       "Gender              0\n",
       "Age                 0\n",
       "Age Group           0\n",
       "Date                0\n",
       "Month               0\n",
       "Status              0\n",
       "Channel             0\n",
       "SKU                 0\n",
       "Category            0\n",
       "Size                0\n",
       "Qty                 0\n",
       "currency            0\n",
       "Amount              0\n",
       "ship-city           0\n",
       "ship-state          0\n",
       "ship-postal-code    0\n",
       "ship-country        0\n",
       "B2B                 0\n",
       "dtype: int64"
      ]
     },
     "execution_count": 8,
     "metadata": {},
     "output_type": "execute_result"
    }
   ],
   "source": [
    "pd.isnull(df).sum()    # to check the null values are available or not."
   ]
  },
  {
   "cell_type": "code",
   "execution_count": 9,
   "id": "ea57b403-c72e-4d63-bc2a-230f1a09789e",
   "metadata": {},
   "outputs": [
    {
     "data": {
      "text/plain": [
       "Index(['ï»¿index', 'Order ID', 'Cust ID', 'Gender', 'Age', 'Age Group', 'Date',\n",
       "       'Month', 'Status', 'Channel ', 'SKU', 'Category', 'Size', 'Qty',\n",
       "       'currency', 'Amount', 'ship-city', 'ship-state', 'ship-postal-code',\n",
       "       'ship-country', 'B2B'],\n",
       "      dtype='object')"
      ]
     },
     "execution_count": 9,
     "metadata": {},
     "output_type": "execute_result"
    }
   ],
   "source": [
    "df.columns"
   ]
  },
  {
   "cell_type": "code",
   "execution_count": 10,
   "id": "9b3eac32-acd5-47a8-a501-1d82d54f872e",
   "metadata": {},
   "outputs": [
    {
     "data": {
      "text/html": [
       "<div>\n",
       "<style scoped>\n",
       "    .dataframe tbody tr th:only-of-type {\n",
       "        vertical-align: middle;\n",
       "    }\n",
       "\n",
       "    .dataframe tbody tr th {\n",
       "        vertical-align: top;\n",
       "    }\n",
       "\n",
       "    .dataframe thead th {\n",
       "        text-align: right;\n",
       "    }\n",
       "</style>\n",
       "<table border=\"1\" class=\"dataframe\">\n",
       "  <thead>\n",
       "    <tr style=\"text-align: right;\">\n",
       "      <th></th>\n",
       "      <th>ï»¿index</th>\n",
       "      <th>Cust ID</th>\n",
       "      <th>Age</th>\n",
       "      <th>Qty</th>\n",
       "      <th>Amount</th>\n",
       "      <th>ship-postal-code</th>\n",
       "    </tr>\n",
       "  </thead>\n",
       "  <tbody>\n",
       "    <tr>\n",
       "      <th>count</th>\n",
       "      <td>31047.00000</td>\n",
       "      <td>3.104700e+04</td>\n",
       "      <td>31047.000000</td>\n",
       "      <td>31047.000000</td>\n",
       "      <td>31047.000000</td>\n",
       "      <td>31047.000000</td>\n",
       "    </tr>\n",
       "    <tr>\n",
       "      <th>mean</th>\n",
       "      <td>15524.00000</td>\n",
       "      <td>4.936824e+06</td>\n",
       "      <td>39.496570</td>\n",
       "      <td>1.006120</td>\n",
       "      <td>682.074822</td>\n",
       "      <td>460474.587206</td>\n",
       "    </tr>\n",
       "    <tr>\n",
       "      <th>std</th>\n",
       "      <td>8962.64124</td>\n",
       "      <td>2.900678e+06</td>\n",
       "      <td>15.117233</td>\n",
       "      <td>0.094088</td>\n",
       "      <td>268.582173</td>\n",
       "      <td>198116.733009</td>\n",
       "    </tr>\n",
       "    <tr>\n",
       "      <th>min</th>\n",
       "      <td>1.00000</td>\n",
       "      <td>8.950000e+02</td>\n",
       "      <td>18.000000</td>\n",
       "      <td>1.000000</td>\n",
       "      <td>229.000000</td>\n",
       "      <td>110001.000000</td>\n",
       "    </tr>\n",
       "    <tr>\n",
       "      <th>25%</th>\n",
       "      <td>7762.50000</td>\n",
       "      <td>2.416471e+06</td>\n",
       "      <td>28.000000</td>\n",
       "      <td>1.000000</td>\n",
       "      <td>486.000000</td>\n",
       "      <td>313001.000000</td>\n",
       "    </tr>\n",
       "    <tr>\n",
       "      <th>50%</th>\n",
       "      <td>15524.00000</td>\n",
       "      <td>4.909885e+06</td>\n",
       "      <td>37.000000</td>\n",
       "      <td>1.000000</td>\n",
       "      <td>646.000000</td>\n",
       "      <td>500028.000000</td>\n",
       "    </tr>\n",
       "    <tr>\n",
       "      <th>75%</th>\n",
       "      <td>23285.50000</td>\n",
       "      <td>7.454182e+06</td>\n",
       "      <td>47.000000</td>\n",
       "      <td>1.000000</td>\n",
       "      <td>794.000000</td>\n",
       "      <td>600040.000000</td>\n",
       "    </tr>\n",
       "    <tr>\n",
       "      <th>max</th>\n",
       "      <td>31047.00000</td>\n",
       "      <td>9.999233e+06</td>\n",
       "      <td>78.000000</td>\n",
       "      <td>5.000000</td>\n",
       "      <td>3036.000000</td>\n",
       "      <td>855117.000000</td>\n",
       "    </tr>\n",
       "  </tbody>\n",
       "</table>\n",
       "</div>"
      ],
      "text/plain": [
       "          ï»¿index       Cust ID           Age           Qty        Amount  \\\n",
       "count  31047.00000  3.104700e+04  31047.000000  31047.000000  31047.000000   \n",
       "mean   15524.00000  4.936824e+06     39.496570      1.006120    682.074822   \n",
       "std     8962.64124  2.900678e+06     15.117233      0.094088    268.582173   \n",
       "min        1.00000  8.950000e+02     18.000000      1.000000    229.000000   \n",
       "25%     7762.50000  2.416471e+06     28.000000      1.000000    486.000000   \n",
       "50%    15524.00000  4.909885e+06     37.000000      1.000000    646.000000   \n",
       "75%    23285.50000  7.454182e+06     47.000000      1.000000    794.000000   \n",
       "max    31047.00000  9.999233e+06     78.000000      5.000000   3036.000000   \n",
       "\n",
       "       ship-postal-code  \n",
       "count      31047.000000  \n",
       "mean      460474.587206  \n",
       "std       198116.733009  \n",
       "min       110001.000000  \n",
       "25%       313001.000000  \n",
       "50%       500028.000000  \n",
       "75%       600040.000000  \n",
       "max       855117.000000  "
      ]
     },
     "execution_count": 10,
     "metadata": {},
     "output_type": "execute_result"
    }
   ],
   "source": [
    "# describe() method returns description of the data in the DataFrame (i.e. count, mean, std, etc)\n",
    "df.describe()"
   ]
  },
  {
   "cell_type": "code",
   "execution_count": 11,
   "id": "bf9dad39-138c-4016-a1ae-bc80314c4f71",
   "metadata": {},
   "outputs": [
    {
     "data": {
      "text/html": [
       "<div>\n",
       "<style scoped>\n",
       "    .dataframe tbody tr th:only-of-type {\n",
       "        vertical-align: middle;\n",
       "    }\n",
       "\n",
       "    .dataframe tbody tr th {\n",
       "        vertical-align: top;\n",
       "    }\n",
       "\n",
       "    .dataframe thead th {\n",
       "        text-align: right;\n",
       "    }\n",
       "</style>\n",
       "<table border=\"1\" class=\"dataframe\">\n",
       "  <thead>\n",
       "    <tr style=\"text-align: right;\">\n",
       "      <th></th>\n",
       "      <th>Age</th>\n",
       "      <th>Qty</th>\n",
       "      <th>Amount</th>\n",
       "    </tr>\n",
       "  </thead>\n",
       "  <tbody>\n",
       "    <tr>\n",
       "      <th>count</th>\n",
       "      <td>31047.000000</td>\n",
       "      <td>31047.000000</td>\n",
       "      <td>31047.000000</td>\n",
       "    </tr>\n",
       "    <tr>\n",
       "      <th>mean</th>\n",
       "      <td>39.496570</td>\n",
       "      <td>1.006120</td>\n",
       "      <td>682.074822</td>\n",
       "    </tr>\n",
       "    <tr>\n",
       "      <th>std</th>\n",
       "      <td>15.117233</td>\n",
       "      <td>0.094088</td>\n",
       "      <td>268.582173</td>\n",
       "    </tr>\n",
       "    <tr>\n",
       "      <th>min</th>\n",
       "      <td>18.000000</td>\n",
       "      <td>1.000000</td>\n",
       "      <td>229.000000</td>\n",
       "    </tr>\n",
       "    <tr>\n",
       "      <th>25%</th>\n",
       "      <td>28.000000</td>\n",
       "      <td>1.000000</td>\n",
       "      <td>486.000000</td>\n",
       "    </tr>\n",
       "    <tr>\n",
       "      <th>50%</th>\n",
       "      <td>37.000000</td>\n",
       "      <td>1.000000</td>\n",
       "      <td>646.000000</td>\n",
       "    </tr>\n",
       "    <tr>\n",
       "      <th>75%</th>\n",
       "      <td>47.000000</td>\n",
       "      <td>1.000000</td>\n",
       "      <td>794.000000</td>\n",
       "    </tr>\n",
       "    <tr>\n",
       "      <th>max</th>\n",
       "      <td>78.000000</td>\n",
       "      <td>5.000000</td>\n",
       "      <td>3036.000000</td>\n",
       "    </tr>\n",
       "  </tbody>\n",
       "</table>\n",
       "</div>"
      ],
      "text/plain": [
       "                Age           Qty        Amount\n",
       "count  31047.000000  31047.000000  31047.000000\n",
       "mean      39.496570      1.006120    682.074822\n",
       "std       15.117233      0.094088    268.582173\n",
       "min       18.000000      1.000000    229.000000\n",
       "25%       28.000000      1.000000    486.000000\n",
       "50%       37.000000      1.000000    646.000000\n",
       "75%       47.000000      1.000000    794.000000\n",
       "max       78.000000      5.000000   3036.000000"
      ]
     },
     "execution_count": 11,
     "metadata": {},
     "output_type": "execute_result"
    }
   ],
   "source": [
    "# use describe() for specific columns\n",
    "df[['Age', 'Qty', 'Amount']].describe()"
   ]
  },
  {
   "cell_type": "code",
   "execution_count": 12,
   "id": "e91a4da3-0e97-4e4b-96f5-641bccec31c3",
   "metadata": {},
   "outputs": [],
   "source": [
    "# Exploratory Data Analysis"
   ]
  },
  {
   "cell_type": "code",
   "execution_count": 13,
   "id": "293efd0f-3b68-4f55-80b9-48b1f1aaf68b",
   "metadata": {},
   "outputs": [
    {
     "data": {
      "text/plain": [
       "<Figure size 1000x600 with 0 Axes>"
      ]
     },
     "metadata": {},
     "output_type": "display_data"
    },
    {
     "data": {
      "image/png": "[encoded data removed]",
      "text/plain": [
       "<Figure size 1000x600 with 2 Axes>"
      ]
     },
     "metadata": {},
     "output_type": "display_data"
    }
   ],
   "source": [
    "# Data preprocessing\n",
    "\n",
    "df['Date'] = pd.to_datetime(df['Date'])  # Convert 'Date' to datetime format\n",
    "df['Amount'] = pd.to_numeric(df['Amount'], errors='coerce')  # Ensure 'Amount' is numeric\n",
    "\n",
    "# KPI 1: Comparative Analysis - Sales vs Orders\n",
    "sales_orders = df.groupby('Month').agg({'Amount': 'sum', 'Order ID': 'count'}).rename(columns={'Order ID': 'Orders'})\n",
    "sales_orders.sort_index(inplace=True)  # Ensure months are in correct order\n",
    "\n",
    "# Visualizing Sales vs Orders\n",
    "plt.figure(figsize=(10, 6))\n",
    "ax = sales_orders.plot(kind='bar', secondary_y='Orders', figsize=(10, 6), title='Comparative Analysis: Sales and Orders')\n",
    "ax.set_ylabel('Sales (Amount)')\n",
    "ax.right_ax.set_ylabel('Number of Orders')\n",
    "plt.xticks(rotation=45)\n",
    "plt.show()\n",
    "for bars in ax.containers:\n",
    "    ax.bar_label(bars)\n"
   ]
  },
  {
   "cell_type": "code",
   "execution_count": 14,
   "id": "3ea58722-833d-4ee5-84c4-b3530d3a5b79",
   "metadata": {},
   "outputs": [
    {
     "data": {
      "image/png": "[encoded data removed]",
      "text/plain": [
       "<Figure size 800x500 with 1 Axes>"
      ]
     },
     "metadata": {},
     "output_type": "display_data"
    }
   ],
   "source": [
    "# KPI 2: Gender Analysis - Who made more purchases in 2022?\n",
    "gender_sales = df.groupby('Gender').agg({'Amount': 'sum', 'Order ID': 'count'}).rename(columns={'Order ID': 'Orders'})\n",
    "\n",
    "# Visualizing Gender Analysis\n",
    "plt.figure(figsize=(8, 5))\n",
    "gender_sales['Orders'].plot(kind='pie', autopct='%1.1f%%', startangle=140, title='Gender Purchases in 2022')\n",
    "plt.ylabel('')\n",
    "plt.show()"
   ]
  },
  {
   "cell_type": "code",
   "execution_count": 15,
   "id": "3c31f304-7dff-411c-9be5-ea38a0407b8c",
   "metadata": {},
   "outputs": [
    {
     "data": {
      "image/png": "[encoded data removed]",
      "text/plain": [
       "<Figure size 1000x600 with 1 Axes>"
      ]
     },
     "metadata": {},
     "output_type": "display_data"
    }
   ],
   "source": [
    "# KPI 3: Top 5 Contributing States\n",
    "top_states = df.groupby('ship-state')['Amount'].sum().nlargest(5)\n",
    "\n",
    "# Visualizing Top States\n",
    "plt.figure(figsize=(10, 6))\n",
    "top_states.plot(kind='bar', color='skyblue', title='Top 5 Contributing States by Sales')\n",
    "plt.ylabel('Sales (Amount)')\n",
    "plt.show()\n",
    "for bars in ax.containers:\n",
    "    ax.bar_label(bars)"
   ]
  },
  {
   "cell_type": "code",
   "execution_count": 17,
   "id": "2f0b9d42-70bf-4e5e-9324-831d49ab0a4e",
   "metadata": {},
   "outputs": [
    {
     "data": {
      "text/plain": [
       "{'Top Month': 'Mar',\n",
       " 'Top Month Sales': np.int64(1928066),\n",
       " 'Gender Contribution':           Amount  Orders\n",
       " Gender                  \n",
       " Men      7613604    9494\n",
       " Women   13562773   21553}"
      ]
     },
     "execution_count": 17,
     "metadata": {},
     "output_type": "execute_result"
    }
   ],
   "source": [
    "# Display partial results for summary\n",
    "top_month = sales_orders['Amount'].idxmax()\n",
    "top_month_value = sales_orders.loc[top_month, 'Amount']\n",
    "{\n",
    "    'Top Month': top_month,\n",
    "    'Top Month Sales': top_month_value,\n",
    "    'Gender Contribution': gender_sales\n",
    "}\n"
   ]
  },
  {
   "cell_type": "code",
   "execution_count": null,
   "id": "0dd326a0-945b-46fc-b9c5-f17c62e61d71",
   "metadata": {},
   "outputs": [],
   "source": [
    "# #Analysis Results (Partial)\n",
    "# Comparative Analysis (Sales vs Orders):\n",
    "\n",
    "# The bar chart shows monthly sales (primary axis) and the number of orders (secondary axis).\n",
    "# Top Performing Month:\n",
    "\n",
    "# March had the highest sales of ₹1,928,066.\n",
    "# Gender Analysis:\n",
    "\n",
    "# Women made 21,553 orders, contributing ₹13,562,773.\n",
    "# Men made 9,494 orders, contributing ₹7,613,604."
   ]
  },
  {
   "cell_type": "code",
   "execution_count": null,
   "id": "07531c24-d0d5-4fa1-98b4-2f01fbf1f7c6",
   "metadata": {},
   "outputs": [],
   "source": [
    "# KPI 4: Age-Gender Correlation - Exploring age and gender concerning order count\n",
    "age_gender_correlation = df.groupby(['Gender', 'Age Group']).size().unstack()\n",
    "\n",
    "# Visualizing Age-Gender Correlation\n",
    "plt.figure(figsize=(10, 6))\n",
    "age_gender_correlation.plot(kind='bar', stacked=True, figsize=(10, 6), colormap='coolwarm', title='Age-Gender Correlation')\n",
    "plt.ylabel('Number of Orders')\n",
    "plt.xticks(rotation=0)\n",
    "plt.legend(title='Age Group')\n",
    "plt.show()\n",
    "for bars in ax.containers:\n",
    "    ax.bar_label(bars)"
   ]
  },
  {
   "cell_type": "code",
   "execution_count": null,
   "id": "f9919146-104e-495f-a015-1854f35ecf42",
   "metadata": {},
   "outputs": [],
   "source": [
    "# plotting a bar chart for gender vs total amount\n",
    "\n",
    "sales_gen = df.groupby(['Gender'], as_index=False)['Amount'].sum().sort_values(by='Amount', ascending=False)\n",
    "\n",
    "sns.barplot(x = 'Gender',y= 'Amount' ,data = sales_gen)"
   ]
  },
  {
   "cell_type": "code",
   "execution_count": null,
   "id": "ac1eb760-ccbc-4e7c-9099-0ffeb3af0b10",
   "metadata": {},
   "outputs": [],
   "source": [
    "print(df[['Age', 'Age Group']].head(15))\n"
   ]
  },
  {
   "cell_type": "code",
   "execution_count": null,
   "id": "27ba91ca-cd79-41c5-aff4-cce404cc98f2",
   "metadata": {},
   "outputs": [],
   "source": [
    "#Age\n",
    "ax = sns.countplot(data = df, x = 'Age', hue = 'Gender')\n",
    "\n",
    "for bars in ax.containers:\n",
    "    ax.bar_label(bars)"
   ]
  },
  {
   "cell_type": "code",
   "execution_count": null,
   "id": "625dc10e-71b3-4a4b-829f-a8cf2a187ea3",
   "metadata": {},
   "outputs": [],
   "source": [
    "# Total Amount vs Age Group\n",
    "sales_age = df.groupby(['Age Group'], as_index=False)['Amount'].sum().sort_values(by='Amount', ascending=False)\n",
    "\n",
    "sns.barplot(x = 'Age Group',y= 'Amount' ,data = sales_age)"
   ]
  },
  {
   "cell_type": "code",
   "execution_count": null,
   "id": "f944dfa6-05dc-4a7d-bb44-cd6116823147",
   "metadata": {},
   "outputs": [],
   "source": [
    "# total number of orders from top 10 states\n",
    "\n",
    "sales_state = df.groupby(['ship-state'], as_index=False)['Qty'].sum().sort_values(by='Qty', ascending=False).head(10)\n",
    "sns.set(rc={'figure.figsize':(20,5)})\n",
    "sns.barplot(data = sales_state, x = 'ship-state',y= 'Qty')"
   ]
  },
  {
   "cell_type": "code",
   "execution_count": null,
   "id": "b27ffbae-7301-40b3-911d-35c8e11ec90b",
   "metadata": {},
   "outputs": [],
   "source": [
    "df.columns = df.columns.str.strip()\n",
    "'Channel' in df.columns\n"
   ]
  },
  {
   "cell_type": "code",
   "execution_count": null,
   "id": "723060fc-d0e4-46ef-a174-cbcec74dbba8",
   "metadata": {},
   "outputs": [],
   "source": [
    "# KPI 5: Channel Performance - Contribution to maximum sales# Check and clean column names\n",
    "df.columns = df.columns.str.strip()  # Remove any extra spaces\n",
    "\n",
    "# Verify if 'Channel' exists\n",
    "if 'Channel' in df.columns:\n",
    "    # KPI 6: Channel Performance\n",
    "    channel_sales = df.groupby('Channel')['Amount'].sum().sort_values(ascending=False)\n",
    "\n",
    "    # Visualizing Channel Performance\n",
    "    plt.figure(figsize=(10, 6))\n",
    "    channel_sales.plot(kind='bar', color='orange', title='Channel Performance: Sales Contribution')\n",
    "    plt.ylabel('Sales (Amount)')\n",
    "    plt.show()\n",
    "else:\n",
    "    print(\"The 'Channel' column does not exist in the dataset.\")\n"
   ]
  },
  {
   "cell_type": "code",
   "execution_count": null,
   "id": "a421d2ef-1125-4759-ad04-147555a81e99",
   "metadata": {},
   "outputs": [],
   "source": [
    "# KPI 6: Highest Selling Category\n",
    "top_category = df.groupby('Category')['Amount'].sum().nlargest(1)\n",
    "top_categories = df['Category'].value_counts().nlargest(5)\n",
    "\n",
    "# Visualizing Highest Selling Categories\n",
    "plt.figure(figsize=(8, 5))\n",
    "top_categories.plot(kind='bar', color='green', title='Top 5 Selling Categories')\n",
    "plt.ylabel('Number of Sales')\n",
    "plt.show()\n",
    "\n"
   ]
  },
  {
   "cell_type": "code",
   "execution_count": null,
   "id": "64c4b186-2ae0-4417-b253-891df969133a",
   "metadata": {},
   "outputs": [],
   "source": [
    "# Summary of additional KPIs\n",
    "{\n",
    "    'Age-Gender Order Correlation': age_gender_correlation,\n",
    "    'Top Channel': channel_sales.idxmax(),\n",
    "    'Top Channel Sales': channel_sales.max(),\n",
    "    'Highest Selling Category': top_category.idxmax(),\n",
    "    'Highest Selling Category Sales': top_category.max()\n",
    "}"
   ]
  }
 ],
 "metadata": {
  "kernelspec": {
   "display_name": "Python 3 (ipykernel)",
   "language": "python",
   "name": "python3"
  },
  "language_info": {
   "codemirror_mode": {
    "name": "ipython",
    "version": 3
   },
   "file_extension": ".py",
   "mimetype": "text/x-python",
   "name": "python",
   "nbconvert_exporter": "python",
   "pygments_lexer": "ipython3",
   "version": "3.13.0"
  }
 },
 "nbformat": 4,
 "nbformat_minor": 5
}
